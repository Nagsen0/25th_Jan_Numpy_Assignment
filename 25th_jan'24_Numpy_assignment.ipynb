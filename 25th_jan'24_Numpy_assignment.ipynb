{
  "nbformat": 4,
  "nbformat_minor": 0,
  "metadata": {
    "colab": {
      "provenance": []
    },
    "kernelspec": {
      "name": "python3",
      "display_name": "Python 3"
    },
    "language_info": {
      "name": "python"
    }
  },
  "cells": [
    {
      "cell_type": "markdown",
      "source": [
        "1. What is a Python library? Why do we use Python libraries?"
      ],
      "metadata": {
        "id": "X78_hArbaLfp"
      }
    },
    {
      "cell_type": "markdown",
      "source": [
        "A Python library is essentially a collection of pre-written code, packaged together to perform specific tasks in your Python programs. Think of it as a toolbox fillex with various tolls, each designed for a different purpose. Instead of reinventing the wheel for every task, you can simply reach for the approapriate tool from the library to get the job done efficiently.\n",
        "\n",
        "\n",
        "There are several reasons why Python libraries are so popular:\n",
        "\n",
        "\n",
        "Increased prouctivity: Libraries save you a lot of time and effort. Instead of coding the same functionality from scratch every time you need it, you can simply import the relevant library and use its pre-written functions and classes. This allows you to focus on the core logic of your program, rather than getting bogged down in repetitive tasks.\n",
        "\n",
        "\n",
        "Improved code quality: Libraries are typically written and teested by experienced developers, so they often offer higher quality code than what you might write yourself. This reduces the risk of bugs and errors in your program.\n",
        "\n",
        "\n",
        "Wider functionality: With libraries, you gain access to a vast array of functionalities that would be impractical or impossible to implement yourself. This opens up a whole new world of possibilities for your Python programs.\n",
        "\n",
        "\n",
        "Easier collaboration: Using popular libraries makes it easier to collaborate with other Python developers. When everyone is using the same tools, code is easier to understand and share.\n",
        "\n",
        "\n",
        "Some specific examples of popular Python libraries and their uses include:\n",
        "\n",
        "\n",
        "  * NumPy: for advanced scientific computing with multidimensional array.\n",
        "\n",
        "  * SciPy: for scientific computing and data analysis.\n",
        "\n",
        "  * Matplotlib and Seaborn: for data visualization and creating stunning charts and graphs.\n",
        "\n",
        "  * TensorFlow and PyTorch: for machine learning and artificial intelligence.\n",
        "\n",
        "  * Django and Flask: for building web applications and APIs.\n",
        "\n",
        "\n",
        "\n",
        "These are just a few examples, and there are countless other libraries availabl for a wide range of tasks. So, next time you're faced witha programming challenge, remember that there's probably a library out there that can help you tackle it more quickly and efficiently."
      ],
      "metadata": {
        "id": "4faQzOPqak4M"
      }
    },
    {
      "cell_type": "markdown",
      "source": [
        "2. What is the difference between Numpy array and list?"
      ],
      "metadata": {
        "id": "I1b9fbaXfY06"
      }
    },
    {
      "cell_type": "markdown",
      "source": [
        "NumPy arrays and Python lists are both data structures used to store collections of data in Python, but they have some key differences:\n",
        "\n",
        "\n",
        "Data type:\n",
        "\n",
        "   * NumPy arrays: All elements in a NumPy array must be of the same data type (e.g. integers, floats, strings). This makes them more memory-efficient and allows for faster vectorizd operations.\n",
        "\n",
        "\n",
        "   * Python lists: Lists can store elements of any data type, including mixed types within the same list. This makes them more flxible but less efficient for numerical computations.\n",
        "\n",
        "\n",
        "Memory-usage:\n",
        "\n",
        "  * NumPy arrays: They store elements contiguously in memory, meaning all elements are placed next to each other in memory blocks. This makes them efficient for accessing and manipulating large datasets.\n",
        "\n",
        "  * Python lists: They use individual references to store elements, which can be scattered across memory. This can be slower for accessing and manipulating large datasets.\n",
        "\n",
        "\n",
        "Operations:\n",
        "\n",
        "  * NumPy arrays: They provide highly optimizd functions for performing mathematical operations on entire arrays at once, making them ideal for scientific computing and data analysis.\n",
        "\n",
        "  * Python lists: They offer general-purpose functions for manipulating individual elements, but my require loop-based calculations for numerical operations, which can be slower for large datasets.\n",
        "\n",
        "\n",
        "Size:\n",
        "\n",
        "  * NumPy arrays: They have a fixed size at creation, meaning you cannot dynamically add or remove elements. This makes them good for pre-allocated data where the size is known beforehand.\n",
        "\n",
        "  * Python lists: They are dynamically sized, meaning you can easily add or remove elements at any time. This makes them more flexible for general-purpose applications.\n",
        "\n",
        "\n",
        "\n",
        "Choosing between a Numpy array and a Python list depends on your specific needs:\n",
        "\n",
        "  * Use a NumPy array for:\n",
        "\n",
        "    * Scientific computing and data analysis with large datasets.\n",
        "\n",
        "    * Performing efficient vectorized operations.\n",
        "\n",
        "    * Pre-allocated data where the size is known beforehand.\n",
        "\n",
        "  * Use a Python list for:\n",
        "\n",
        "    * General-purpose tasks where data types may be mixed.\n",
        "\n",
        "    * Dynamically sized data that needs to be modified frequently.\n",
        "\n",
        "    * Simpler data storage where efficiency is not critical."
      ],
      "metadata": {
        "id": "76cnG7v-fsfi"
      }
    },
    {
      "cell_type": "markdown",
      "source": [
        "3. Find the shape, size and dimension of the following array?\n",
        "\n",
        "[[1,2,3,4],[5,6,7,8],[9,10,11,12]]"
      ],
      "metadata": {
        "id": "c7M6YwR1x5u-"
      }
    },
    {
      "cell_type": "code",
      "execution_count": null,
      "metadata": {
        "colab": {
          "base_uri": "https://localhost:8080/"
        },
        "id": "mpazCM3SZ-3R",
        "outputId": "df3a55c5-e5be-4391-e896-4eb908e3de61"
      },
      "outputs": [
        {
          "output_type": "stream",
          "name": "stdout",
          "text": [
            "shape of the array: (3, 4)\n",
            "size of the array: 12\n",
            "dimensions of the array: 2\n"
          ]
        }
      ],
      "source": [
        "import numpy as np\n",
        "\n",
        "arr=np.array([[1,2,3,4],[5,6,7,8], [9,10,11,12]])\n",
        "\n",
        "print('shape of the array:',arr.shape)\n",
        "print('size of the array:',arr.size)\n",
        "print('dimensions of the array:',arr.ndim)"
      ]
    },
    {
      "cell_type": "markdown",
      "source": [
        "4. Write pyton code to access the first row of the following array?\n",
        "\n",
        "[[1,2,3,4],\n",
        "[5,6,7,8],\n",
        "[9,10,11,12]]"
      ],
      "metadata": {
        "id": "kiiUJ-XSzFTr"
      }
    },
    {
      "cell_type": "code",
      "source": [
        "import numpy as np\n",
        "\n",
        "arr=np.array([[1,2,3,4],[5,6,7,8], [9,10,11,12]])\n",
        "\n",
        "first_row=arr[0]\n",
        "\n",
        "print(first_row)"
      ],
      "metadata": {
        "colab": {
          "base_uri": "https://localhost:8080/"
        },
        "id": "CXbJ6alczdTN",
        "outputId": "8dae25dc-50fe-42e0-a6f5-cf431976e28e"
      },
      "execution_count": null,
      "outputs": [
        {
          "output_type": "stream",
          "name": "stdout",
          "text": [
            "[1 2 3 4]\n"
          ]
        }
      ]
    },
    {
      "cell_type": "markdown",
      "source": [
        "5. How do you access the element at the third row and fourth column from the given numpy array?\n",
        "\n",
        "[[1,2,3,4],\n",
        "[5,6,7,8],\n",
        "[9,10,11,12]]"
      ],
      "metadata": {
        "id": "R21szevM0bHt"
      }
    },
    {
      "cell_type": "code",
      "source": [
        "import numpy as np\n",
        "\n",
        "arr=np.array([[1,2,3,4],[5,6,7,8], [9,10,11,12]])\n",
        "\n",
        "arr[2,3]"
      ],
      "metadata": {
        "colab": {
          "base_uri": "https://localhost:8080/"
        },
        "id": "Un8AvonkzsPR",
        "outputId": "9b3a2e08-87cb-41f4-c904-939ba88aba8a"
      },
      "execution_count": null,
      "outputs": [
        {
          "output_type": "execute_result",
          "data": {
            "text/plain": [
              "12"
            ]
          },
          "metadata": {},
          "execution_count": 10
        }
      ]
    },
    {
      "cell_type": "markdown",
      "source": [
        "6. Write code to extract all odd-indexed elements from the given numpy array?\n",
        "\n",
        "[[1,2,3,4],[5,6,7,8],[9,10,11,12]]"
      ],
      "metadata": {
        "id": "LbzkYtQF1gCd"
      }
    },
    {
      "cell_type": "code",
      "source": [
        "import numpy as np\n",
        "\n",
        "arr=np.array([[1,2,3,4],\n",
        "              [5,6,7,8],\n",
        "              [9,10,11,12]])\n",
        "\n",
        "\n",
        "odd_row=arr[1::2]   # this will extract all odd indexed rows\n",
        "\n",
        "odd_elements=odd_row[:,1::2]   # this will extract all element in rows and columns with odd index\n",
        "\n",
        "print(odd_elements)"
      ],
      "metadata": {
        "id": "Yg5NQekh1PTe",
        "colab": {
          "base_uri": "https://localhost:8080/"
        },
        "outputId": "682163c7-7682-4386-a208-dcaf9cd189aa"
      },
      "execution_count": 12,
      "outputs": [
        {
          "output_type": "stream",
          "name": "stdout",
          "text": [
            "[[6 8]]\n"
          ]
        }
      ]
    },
    {
      "cell_type": "markdown",
      "source": [
        "7. How can you generate a random 3 * 3 matrix with values between 0 and 1 ?"
      ],
      "metadata": {
        "id": "3uL7y5tBlZBt"
      }
    },
    {
      "cell_type": "code",
      "source": [
        "import numpy as np\n",
        "\n",
        "random_matrix=np.random.random((3,3))\n",
        "\n",
        "print(random_matrix)"
      ],
      "metadata": {
        "colab": {
          "base_uri": "https://localhost:8080/"
        },
        "id": "XB8y1deelniC",
        "outputId": "6c3b6e1d-3d27-44ca-c766-62d37a01093c"
      },
      "execution_count": 1,
      "outputs": [
        {
          "output_type": "stream",
          "name": "stdout",
          "text": [
            "[[0.9054161  0.57954041 0.98782827]\n",
            " [0.42638201 0.2601903  0.59723006]\n",
            " [0.63997954 0.63894023 0.80713045]]\n"
          ]
        }
      ]
    },
    {
      "cell_type": "markdown",
      "source": [
        "8. Describe the difference between np.random.rand and np.random.randn?"
      ],
      "metadata": {
        "id": "1MCAcYjFmaNS"
      }
    },
    {
      "cell_type": "markdown",
      "source": [
        "Both np.random.rand and np.random.randn generate arrays of random numbers in Numpy, but they differ in thee type of distribution they sample from:\n",
        "\n",
        "\n",
        "1. Distribution:\n",
        "\n",
        "    * np.random.rand:   Generates random numbers from a uniform distribution in the half-open interval [0,1). Each number has an equal probability of appearing.\n",
        "\n",
        "    * np.random.randn: Generates random numbers from a standard normal distribution (also called Gaussian distribution) with mean 0 and variance 1. Most values will be clustered around the mean, with fewer falling further away.\n",
        "\n",
        "\n",
        "2. Usage:   \n",
        "\n",
        "    * np.random.rand: Use this when you need equally likely values within a specific range, like simulating dice rolls or assigning random probabilities.\n",
        "\n",
        "    * np.random.randn: Use this when you need values that naturally cluster around a central value, like simulating noise in measurements or financial fluctuations.\n",
        "\n",
        "\n",
        "3. Visual representation:\n",
        "\n",
        "    * Uniform distribution: Imagine a rectangle where the base is the range (0 to 1) and the height is the probability. The area under the rectangle is 1, and equal slices represent equal probabilities for each number.\n",
        "\n",
        "    * Normal distribution: Imagine a bell curve centered at 0. Most values fall near the center, with fewer values further away on either side. The curve tails off gradually but never reaches zero.\n",
        "\n",
        "\n",
        "4. Additional notes:\n",
        "\n",
        "    * Both functions can generate arrays of any desired size and dimensionality.\n",
        "\n",
        "    * You can modify the generated values from np.random.rand by multiplying them by any desired range and adding an offset.\n",
        "\n",
        "    * To generate normal distribution with different means and variances, use np.random.normal(mu, sigma), where mu is the mean and sigma is the standard deviation."
      ],
      "metadata": {
        "id": "gvWP3DJEzaT5"
      }
    },
    {
      "cell_type": "code",
      "source": [
        "import numpy as np\n",
        "\n",
        "rand_uniform_array = np.random.rand(5,5)\n",
        "\n",
        "print(rand_uniform_array)"
      ],
      "metadata": {
        "colab": {
          "base_uri": "https://localhost:8080/"
        },
        "id": "Q0tgM3zizZ45",
        "outputId": "39ccb995-ff76-49a0-ed55-2532ee9277eb"
      },
      "execution_count": 9,
      "outputs": [
        {
          "output_type": "stream",
          "name": "stdout",
          "text": [
            "[[0.84333811 0.28182256 0.29071086 0.77661745 0.2031062 ]\n",
            " [0.1202223  0.34879265 0.07637315 0.3743925  0.5646498 ]\n",
            " [0.93879391 0.99094782 0.87409512 0.0123148  0.0233878 ]\n",
            " [0.36704808 0.70459906 0.55582506 0.32687388 0.66622319]\n",
            " [0.04582694 0.51935896 0.13638669 0.76078446 0.71505794]]\n"
          ]
        }
      ]
    },
    {
      "cell_type": "code",
      "source": [
        "import numpy as np\n",
        "\n",
        "rand_normal_array = np.random.randn(3,3)\n",
        "\n",
        "print(rand_normal_array)"
      ],
      "metadata": {
        "colab": {
          "base_uri": "https://localhost:8080/"
        },
        "id": "gTzxQjGEzNwB",
        "outputId": "dc3893c0-50d8-46e9-a47d-e3095bfc8be0"
      },
      "execution_count": 10,
      "outputs": [
        {
          "output_type": "stream",
          "name": "stdout",
          "text": [
            "[[-0.62976532  0.73834729 -0.09482314]\n",
            " [ 1.89865459 -0.19272102  0.70030047]\n",
            " [ 1.74176982 -1.31559399  0.19254463]]\n"
          ]
        }
      ]
    },
    {
      "cell_type": "markdown",
      "source": [
        "9. Write code to increase the dimension of the following array?\n",
        "\n",
        "[[1,2,3,4],\n",
        "[5,6,7,8],\n",
        "[9,10,11,12]]"
      ],
      "metadata": {
        "id": "OKM-zx-i5n3e"
      }
    },
    {
      "cell_type": "code",
      "source": [
        "import numpy as np\n",
        "\n",
        "arr=np.array([[1,2,3,4],[5,6,7,8],[9,10,11,12]])\n",
        "\n",
        "\n",
        "arrd=arr.reshape(1,1,1,1,1,2,6)\n",
        "arrd"
      ],
      "metadata": {
        "colab": {
          "base_uri": "https://localhost:8080/"
        },
        "id": "L41lfCD55kf9",
        "outputId": "86e1da13-1fdb-4f28-8922-e6569dce8c6b"
      },
      "execution_count": 3,
      "outputs": [
        {
          "output_type": "execute_result",
          "data": {
            "text/plain": [
              "array([[[[[[[ 1,  2,  3,  4,  5,  6],\n",
              "            [ 7,  8,  9, 10, 11, 12]]]]]]])"
            ]
          },
          "metadata": {},
          "execution_count": 3
        }
      ]
    },
    {
      "cell_type": "markdown",
      "source": [
        "10. How to transpose the following array in NumPy?\n",
        "\n",
        "[[1,2,3,4],\n",
        "[5,6,7,8],[9,10,11,12]]"
      ],
      "metadata": {
        "id": "jWDtMQlUUz2T"
      }
    },
    {
      "cell_type": "code",
      "source": [
        "import numpy as np\n",
        "\n",
        "arr=np.array([[1,2,3,4],[5,6,7,8],[9,10,11,12]])\n",
        "\n",
        "# transpose the array using .T attribute\n",
        "\n",
        "transposed_arr = arr.T\n",
        "\n",
        "print(transposed_arr)"
      ],
      "metadata": {
        "colab": {
          "base_uri": "https://localhost:8080/"
        },
        "id": "GloA_nKRcPPk",
        "outputId": "53838bfa-a4cb-4afd-d311-ed5efaff20e6"
      },
      "execution_count": 2,
      "outputs": [
        {
          "output_type": "stream",
          "name": "stdout",
          "text": [
            "[[ 1  5  9]\n",
            " [ 2  6 10]\n",
            " [ 3  7 11]\n",
            " [ 4  8 12]]\n"
          ]
        }
      ]
    },
    {
      "cell_type": "markdown",
      "source": [
        "11.Consider the following matrix:\n",
        "\n",
        "matrix A: [[1,2,3,4],[5,6,7,8],[9,10,11,12]]\n",
        "\n",
        "perform the following operation using Python:\n",
        "\n",
        "1. Index wise multiplication\n",
        "2. matrix multiplication\n",
        "3. Add both the matrics\n",
        "4. Subtract matrix B from A\n",
        "5. Divide Matrix B by A"
      ],
      "metadata": {
        "id": "KkBsJUKkWywH"
      }
    },
    {
      "cell_type": "code",
      "source": [
        "#  1. Index wise multiplication\n",
        "\n",
        "import numpy as np\n",
        "\n",
        "matrix_A = np.array([[1,2,3,4],[5,6,7,8],[9,10,11,12]])\n",
        "matrix_B= np.array([[1,2,3,4],[5,6,7,8],[9,10,11,12]])\n",
        "\n",
        "index_wise_multiplication = matrix_A * matrix_B\n",
        "\n",
        "\n",
        "#  2. Matrix multiplication\n",
        "\n",
        "matrix_multiplication = matrix_A @ matrix_B.T\n",
        "\n",
        "# 3. Add both the matrics\n",
        "\n",
        "add_matrix = matrix_A + matrix_B\n",
        "\n",
        "# 4. Subtract matrix B from A\n",
        "\n",
        "subtract_matrix = matrix_A - matrix_B\n",
        "\n",
        "# 5. Divide matrix B by A\n",
        "\n",
        "matrix_division = matrix_B / matrix_A\n",
        "\n",
        "\n",
        "print('index wise multiplication:', index_wise_multiplication)\n",
        "print()\n",
        "print('matrix multiplication:', matrix_multiplication)\n",
        "print()\n",
        "print('addition of matrix:', add_matrix)\n",
        "print()\n",
        "print('subtraction of matrix:', subtract_matrix)\n",
        "print()\n",
        "print('matrix division:', matrix_division)"
      ],
      "metadata": {
        "colab": {
          "base_uri": "https://localhost:8080/"
        },
        "id": "YBO5OqEiWm4p",
        "outputId": "14ff385d-54af-4bb2-d6d1-959fbf3df598"
      },
      "execution_count": 9,
      "outputs": [
        {
          "output_type": "stream",
          "name": "stdout",
          "text": [
            "index wise multiplication: [[  1   4   9  16]\n",
            " [ 25  36  49  64]\n",
            " [ 81 100 121 144]]\n",
            "\n",
            "matrix multiplication: [[ 30  70 110]\n",
            " [ 70 174 278]\n",
            " [110 278 446]]\n",
            "\n",
            "addition of matrix: [[ 2  4  6  8]\n",
            " [10 12 14 16]\n",
            " [18 20 22 24]]\n",
            "\n",
            "subtraction of matrix: [[0 0 0 0]\n",
            " [0 0 0 0]\n",
            " [0 0 0 0]]\n",
            "\n",
            "matrix division: [[1. 1. 1. 1.]\n",
            " [1. 1. 1. 1.]\n",
            " [1. 1. 1. 1.]]\n"
          ]
        }
      ]
    },
    {
      "cell_type": "markdown",
      "source": [
        "12. Which function in Numpy can be used to swap the byte order of an array?"
      ],
      "metadata": {
        "id": "ylM2nnGPbZXx"
      }
    },
    {
      "cell_type": "code",
      "source": [
        "import numpy as np\n",
        "\n",
        "arr=np.array([1,2,3,4,5],dtype=np.int32)\n",
        "\n",
        "swapped_arr = arr.byteswap()\n",
        "\n",
        "print('original array:', arr)\n",
        "print()\n",
        "\n",
        "print('swapped array:',swapped_arr)"
      ],
      "metadata": {
        "colab": {
          "base_uri": "https://localhost:8080/"
        },
        "id": "zckUZDI4iBtU",
        "outputId": "87b0e05e-3d62-468b-e935-fd84e95812c7"
      },
      "execution_count": 2,
      "outputs": [
        {
          "output_type": "stream",
          "name": "stdout",
          "text": [
            "original array: [1 2 3 4 5]\n",
            "\n",
            "swapped array: [16777216 33554432 50331648 67108864 83886080]\n"
          ]
        }
      ]
    },
    {
      "cell_type": "markdown",
      "source": [
        "13. What is the significance of the np.linalg.inv function?"
      ],
      "metadata": {
        "id": "NsYRxXn4mhXL"
      }
    },
    {
      "cell_type": "markdown",
      "source": [
        "The np.linalg.inv function in Numpy is highly significant for linear algebra operations. It calculates th inverse of a square matrix, which plays a crucial role in solving various mathematical and engineering problems. Here's a breakdown of its significance:\n",
        "\n",
        "\n",
        "1. Solving linear systems: The most common application of np.linalg.inv is to solve linear systems of equations. Given a system of equations represente by the matrix equation Ax=b, where A is a square matrix, x is the unknown vector, and b is the right-hand side vector, you can find the solution for x using the inverse:"
      ],
      "metadata": {
        "id": "MFGIt9GbVv9C"
      }
    },
    {
      "cell_type": "code",
      "source": [
        "import numpy as np\n",
        "\n",
        "A = np.array([[4,7],\n",
        "              [2,6]])\n",
        "\n",
        "# calculate the inverse of the matrix\n",
        "A_inv = np.linalg.inv(A)\n",
        "\n",
        "print('original matrix:', A)\n",
        "\n",
        "print('\\nInverse of the matrix:')\n",
        "print(A_inv)\n",
        "\n",
        "# example: solving a linear system\n",
        "b = np.array([18, 14])\n",
        "x = np.linalg.inv(A) @ b\n",
        "\n",
        "print('\\nSolution to the system Ax = b:')\n",
        "print(x)"
      ],
      "metadata": {
        "colab": {
          "base_uri": "https://localhost:8080/"
        },
        "id": "Wn68cENOmA8G",
        "outputId": "298bfcf6-7133-4249-a15d-6f250212e9b2"
      },
      "execution_count": 5,
      "outputs": [
        {
          "output_type": "stream",
          "name": "stdout",
          "text": [
            "original matrix: [[4 7]\n",
            " [2 6]]\n",
            "\n",
            "Inverse of the matrix:\n",
            "[[ 0.6 -0.7]\n",
            " [-0.2  0.4]]\n",
            "\n",
            "Solution to the system Ax = b:\n",
            "[1. 2.]\n"
          ]
        }
      ]
    },
    {
      "cell_type": "markdown",
      "source": [
        "This is computationally efficient and numerically stable for well-conditioned matrices.\n",
        "\n",
        "\n",
        "\n",
        "2. Computing determinants and matrix properties: The inverse is closely related to the determinant of a matrix. If a matrix has a non-zero determinant, its inverse exists and can be computed using np.linalg.int. The determinant itself, obtained using np.linalg.det, also indicates the invertibility of the matrix and its singularity or non-singularity.\n",
        "\n",
        "\n",
        "3. Geometric transformations: Inverses play a role in various geometric transformations like rotations, reflections, and scaling. By multiplying points or vectors with the inverse of a transformation matrix, you can reverse the transformation or find its inverse transformation.\n",
        "\n",
        "4. Data Analysis and machine learning: Inverses are used in various data analysis and machine learning techniques, including ridge regression, generalized least squares, and certain regularization methods. These techniques employ matrix inverses to find optimal solutions or models based on data and constraints.\n",
        "\n",
        "\n",
        "5. Optimization and control theory: Inverseness plays a role in optimization problems and control theory, where finding the inverse of a Hessian matrix or Jocabian matrix can be crucial for solving optimization problems or designing control systems.\n",
        "\n",
        "\n",
        "Overall, np.linalg.inv is a fundamental tool in linear algebra due to its ability to solve systems of equations, compute determinants, prform geometrical transformations, and support various data analysis and engineering applications. It's essential for anyone working with matrices and linear algebra in diverse fields like mathematics, physics, computer science, and engineering."
      ],
      "metadata": {
        "id": "a79WOFM9bMnV"
      }
    },
    {
      "cell_type": "markdown",
      "source": [
        "14. What does the np.reshape function do, and how is it used?"
      ],
      "metadata": {
        "id": "xTGLRco3ej72"
      }
    },
    {
      "cell_type": "markdown",
      "source": [
        "The np.reshape function in NumPy allows you to reshape an array without changing its data, meaning it rearranges the elements of an array into a new shape without modifying the underlying values.\n",
        "\n",
        "Here's how it works:"
      ],
      "metadata": {
        "id": "cqOAhIslfMfU"
      }
    },
    {
      "cell_type": "code",
      "source": [
        "# import numpy\n",
        "\n",
        "import numpy as np\n",
        "\n",
        "# create an array\n",
        "\n",
        "arr = np.arange(12)\n",
        "\n",
        "reshaped_arr = np.reshape(arr, (3,4))\n",
        "\n",
        "print('original array:',arr)\n",
        "print('\\nReshaped array:',reshaped_arr)"
      ],
      "metadata": {
        "colab": {
          "base_uri": "https://localhost:8080/"
        },
        "id": "T-ergsdLX4Vc",
        "outputId": "7c093a25-dd09-4e55-a7a0-2d8015c9cab3"
      },
      "execution_count": 7,
      "outputs": [
        {
          "output_type": "stream",
          "name": "stdout",
          "text": [
            "original array: [ 0  1  2  3  4  5  6  7  8  9 10 11]\n",
            "\n",
            "Reshaped array: [[ 0  1  2  3]\n",
            " [ 4  5  6  7]\n",
            " [ 8  9 10 11]]\n"
          ]
        }
      ]
    },
    {
      "cell_type": "markdown",
      "source": [
        "Common uses:\n",
        "\n",
        "  * Changing dimensions: Reshape a 1D array into a 2D matrix or vice versa.\n",
        "\n",
        "  * Transposing: Transpose a matrix by swapping its rows and columns.\n",
        "\n",
        "  * Rearranging data: Restructure data for different analysis or visualization tasks.\n",
        "\n",
        "  * Preparing data for machine learning models: Many models require specific input shapes\n",
        "\n",
        "Key Points:\n",
        "\n",
        "  * np.reshape is a versatile tool for array manipulation.\n",
        "\n",
        "  * It's efficient, as it doesn't involve copying data.\n",
        "\n",
        "  * Be mindful of the total number of elements when reshaping.\n",
        "\n",
        "  * It's commonly used in conjunction with other NumPy functions."
      ],
      "metadata": {
        "id": "ZFuHm-RjhNyf"
      }
    },
    {
      "cell_type": "markdown",
      "source": [
        "15. What is broadcasting in Numpy?"
      ],
      "metadata": {
        "id": "PsAmXqGrjC9-"
      }
    },
    {
      "cell_type": "markdown",
      "source": [
        "Broadcasting in NumPy refers to a powerful mechanism that allows performing arithmetic operations on arrays of different shapes without explicitly creating intermediate arrays. It automatically expands arrays that are smaller than others to match the larger shape in a specific way, enabling element-wise operations.\n",
        "\n",
        "\n",
        "Here's a breakdown of key points about broadcasting:\n",
        "\n",
        "Concept:\n",
        "\n",
        "  * Imagine you have two arrays, one with shape (2,3) and another with shape (3,).\n",
        "\n",
        "  * Normally, you wouldn't be abl to add them directly due to shape mismatch.\n",
        "\n",
        "  * Broadcasting steps in, promoting (expanding) the smaller array (shape(3,)) to match the larger one (by adding dimensions of size 1).\n",
        "\n",
        "  * The resulting broadcasted arrays have the same shape (2,3), enabling element-wise addition.\n",
        "\n",
        "\n",
        "Rules:\n",
        "\n",
        "  * Arrays are broadcast together if they have compatible shapes.\n",
        "\n",
        "  Compatibility means:\n",
        "\n",
        "    * They have the same number of dimensions.\n",
        "\n",
        "    * Corresponding dimensions either have the same size or one of them is 1.\n",
        "\n",
        "\n",
        "  * The smaller array is conceptually stretched to match the larger array's shape by inserting dimensions of size 1 at the beginning.\n",
        "\n",
        "  * Element-wise operations are then performed, using corresponding elements from each array.\n",
        "\n",
        "\n",
        "Example:\n",
        "\n",
        "1. Adding a vector to a matrix:"
      ],
      "metadata": {
        "id": "88dKCLpvj2aW"
      }
    },
    {
      "cell_type": "code",
      "source": [
        "import numpy as np\n",
        "\n",
        "vec = np.array([1,2,3])\n",
        "\n",
        "mat = np.array([[4,5,6],\n",
        "                [7,8,9]])\n",
        "\n",
        "result = vec + mat # Broadcasting adds vec to each row of mat\n",
        "print(result)"
      ],
      "metadata": {
        "colab": {
          "base_uri": "https://localhost:8080/"
        },
        "id": "5C-vgXeVgr-L",
        "outputId": "a9f7cb48-fdff-4318-e290-da5e7a2cc4a2"
      },
      "execution_count": 8,
      "outputs": [
        {
          "output_type": "stream",
          "name": "stdout",
          "text": [
            "[[ 5  7  9]\n",
            " [ 8 10 12]]\n"
          ]
        }
      ]
    },
    {
      "cell_type": "code",
      "source": [
        "# 2. Multiplying a scalar by a matrix\n",
        "\n",
        "scalar= 2\n",
        "\n",
        "mat=np.array([[1,2,3],\n",
        "              [4,5,6]])\n",
        "\n",
        "result = scalar * mat # Broadcasting multiplies scalar by each element of mat\n",
        "print(result)"
      ],
      "metadata": {
        "colab": {
          "base_uri": "https://localhost:8080/"
        },
        "id": "Oaw0AE2eqkbS",
        "outputId": "0d78680d-49ee-4c91-90c2-9843aa38a1fa"
      },
      "execution_count": 9,
      "outputs": [
        {
          "output_type": "stream",
          "name": "stdout",
          "text": [
            "[[ 2  4  6]\n",
            " [ 8 10 12]]\n"
          ]
        }
      ]
    },
    {
      "cell_type": "markdown",
      "source": [
        "Significance:\n",
        "\n",
        "  * Broadcasting avoids explicit loops and data copying, making code more concise and efficient.\n",
        "\n",
        "  * It enables vectorized oprations, leveraging NumPy's optimized functions for faster computations.\n",
        "\n",
        "  * It's essential for manipulating multidimensional data efficiently in data analysis, scientific computing, and machine learning.\n",
        "\n",
        "\n",
        "Undeerstanding broadcasting is crucial for effectively using NumPy for array operations. It empowers you to perform complex calculations on arrays of different shapes in a streamlined and efficient manner."
      ],
      "metadata": {
        "id": "otJQLxO1rXAk"
      }
    },
    {
      "cell_type": "code",
      "source": [],
      "metadata": {
        "id": "ELZ1NgBYrQ4k"
      },
      "execution_count": null,
      "outputs": []
    }
  ]
}